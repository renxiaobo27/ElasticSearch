{
 "cells": [
  {
   "cell_type": "markdown",
   "metadata": {
    "deletable": true,
    "editable": true
   },
   "source": [
    "## make sure ES is up and running"
   ]
  },
  {
   "cell_type": "code",
   "execution_count": 1,
   "metadata": {
    "collapsed": false,
    "deletable": true,
    "editable": true
   },
   "outputs": [],
   "source": [
    "import requests\n",
    "import elasticsearch\n",
    "es = elasticsearch.Elasticsearch()"
   ]
  },
  {
   "cell_type": "code",
   "execution_count": 2,
   "metadata": {
    "collapsed": false,
    "deletable": true,
    "editable": true
   },
   "outputs": [],
   "source": [
    "res = requests.get('http://localhost:9200')"
   ]
  },
  {
   "cell_type": "code",
   "execution_count": 3,
   "metadata": {
    "collapsed": false,
    "deletable": true,
    "editable": true
   },
   "outputs": [
    {
     "data": {
      "text/plain": [
       "'{\\n  \"name\" : \"yZCiEDk\",\\n  \"cluster_name\" : \"elasticsearch_bobo\",\\n  \"cluster_uuid\" : \"6nNV_QfBTeex86ZWi-FTNw\",\\n  \"version\" : {\\n    \"number\" : \"5.2.0\",\\n    \"build_hash\" : \"24e05b9\",\\n    \"build_date\" : \"2017-01-24T19:52:35.800Z\",\\n    \"build_snapshot\" : false,\\n    \"lucene_version\" : \"6.4.0\"\\n  },\\n  \"tagline\" : \"You Know, for Search\"\\n}\\n'"
      ]
     },
     "execution_count": 3,
     "metadata": {},
     "output_type": "execute_result"
    }
   ],
   "source": [
    "res.content"
   ]
  },
  {
   "cell_type": "code",
   "execution_count": 4,
   "metadata": {
    "collapsed": false,
    "deletable": true,
    "editable": true
   },
   "outputs": [],
   "source": [
    "res = es.get(index=\"movie\", doc_type='info', id=1)"
   ]
  },
  {
   "cell_type": "code",
   "execution_count": 5,
   "metadata": {
    "collapsed": false,
    "deletable": true,
    "editable": true
   },
   "outputs": [
    {
     "name": "stdout",
     "output_type": "stream",
     "text": [
      "{u'rating': u'8.13', u'votes': u'11306', u'name': u'Matrix', u'tags': [u'antyutopia', u'cyberpunk', u'dreszczowiec', u'filozofia', u'matrix', u'mindfuck', u'pokoleniowy', u'przygodowy', u'robot', u'science-fiction', u'sensacyjny', u'sztuczna inteligencja', u'wirtualna rzeczywisto\\u015b\\u0107'], u'image': u'http://filmaster.pl/thumbnail/?path=img%2Fobj%2Ff%2F02%2F08%2Fthe-matrix.jpg&crop=center&size=180', u'director': u'Andy Wachowski', u'actors': [u'Keanu Reeves', u'Laurence Fishburne', u'Carrie-Anne Moss', u'Hugo Weaving', u'Gloria Foster', u'Joe Pantoliano', u'Marcus Chong', u'Julian Arahanga', u'Matt Doran', u'Belinda McClory', u'Xiaobo Ren'], u'year': u'1999', u'similar': [u'Mroczne miasto', u'Matrix Reaktywacja', u'Ghost in the Shell', u'Matrix Rewolucje', u'Incepcja'], u'description': u'Thomas Anderson - na codzie\\u0144 pracownik firmy komputerowej, &quot;po godzinach&quot; haker o pseudonimie, Neo. Pewnego dnia, nawi\\u0105zuje kontakt z Morfeuszem - cz\\u0142owiekiem, kt\\xf3ry jak twierdzi, pomo\\u017ce Thomasowi pozna\\u0107 prawdziwy \\u015bwiat. Neo zaintrygowany, opowie\\u015bciami Morfeusza, o tym \\u017ce \\u015bwiat jaki widzi na codzie\\u0144 to Matrix - program wygenerowany przez maszyny by omami\\u0107 cz\\u0142owieka, przytaje do jego grupy. Tak trafia na Nabuchodonozora ...'}\n"
     ]
    }
   ],
   "source": [
    "print(res['_source'])"
   ]
  },
  {
   "cell_type": "code",
   "execution_count": 6,
   "metadata": {
    "collapsed": false,
    "deletable": true,
    "editable": true
   },
   "outputs": [],
   "source": [
    "res = es.search(index='movie',body={\n",
    "\"query\" : {\n",
    "        \"match\": {\n",
    "           \"actors\": \"i want xiaobo\"\n",
    "        }     \n",
    "    }\n",
    "})"
   ]
  },
  {
   "cell_type": "code",
   "execution_count": 7,
   "metadata": {
    "collapsed": false,
    "deletable": true,
    "editable": true
   },
   "outputs": [
    {
     "name": "stdout",
     "output_type": "stream",
     "text": [
      "9.29627\n",
      "[u'Keanu Reeves', u'Laurence Fishburne', u'Carrie-Anne Moss', u'Hugo Weaving', u'Gloria Foster', u'Joe Pantoliano', u'Marcus Chong', u'Julian Arahanga', u'Matt Doran', u'Belinda McClory', u'Xiaobo Ren']:\n",
      "9.29627\n",
      "[u'Ashton Kutcher', u'Melora Walters', u'Amy Smart', u'Elden Henson', u'William Lee Scott', u'John Patrick Amedori', u'Irene Gorovaia', u'Kevin Schmidt', u'Jesse James', u'Logan Lerman']:\n",
      "9.29627\n",
      "[u'Jean Reno', u'Gary Oldman', u'Natalie Portman', u'Danny Aiello', u'Peter Appel', u'Willi One Blood', u'Don Creech', u'Keith A. Glascoe', u'Randolph Scott (II)', u'Michael Badalucco']:\n",
      "9.29627\n",
      "[u'Bruce Willis', u'Gary Oldman', u'Ian Holm', u'Milla Jovovich', u'Chris Tucker', u'Luke Perry', u'Brion James', u\"Tommy 'Tiny' Lister\", u'Lee Evans', u'Charlie Creed-Miles']:\n",
      "9.29627\n",
      "[u'Tom Skerritt', u'Sigourney Weaver', u'Veronica Cartwright', u'Harry Dean Stanton', u'John Hurt', u'Ian Holm', u'Yaphet Kotto', u'Bolaji Badejo', u'Helen Horton', u'Eddie Powell']:\n",
      "9.29627\n",
      "[u'Mark Hamill', u'Harrison Ford', u'Carrie Fisher', u'Billy Dee Williams', u'Anthony Daniels', u'Peter Mayhew', u'Sebastian Shaw', u'Ian McDiarmid', u'Frank Oz', u'James Earl Jones']:\n",
      "9.29627\n",
      "[u'Daniel Craig', u'Eva Green', u'Mads Mikkelsen', u'Judi Dench', u'Jeffrey Wright', u'Giancarlo Giannini', u'Caterina Murino', u'Simon Abkarian', u'Isaach De Bankol\\xe9', u'Jesper Christensen']:\n",
      "9.29627\n",
      "[u'Ivana Baquero', u'Sergi L\\xf3pez', u'Maribel Verd\\xfa', u'Doug Jones', u'Ariadna Gil', u'\\xc1lex Angulo', u'Manolo Solo', u'C\\xe9sar Vea', u'Roger Casamajor', u'Ivan Massagu\\xe9']:\n",
      "9.29627\n",
      "[u'Dev Patel', u'Anil Kapoor', u'Saurabh Shukla', u'Rajendranath Zutshi', u'Jeneva Talwar', u'Freida Pinto', u'Irrfan Khan', u'Azharuddin Mohammed Ismail', u'Ayush Mahesh Khedekar', u'Sunil Kumar Agrawal']:\n",
      "9.29627\n",
      "[u'Audrey Tautou', u'Mathieu Kassovitz', u'Rufus Rufus', u'Lorella Cravotta', u'Serge Merlin', u'Jamel Debbouze', u'Clotilde Mollet', u'Claire Maurier', u'Isabelle Nanty', u'Dominique Pinon']:\n"
     ]
    }
   ],
   "source": [
    "for hit in res['hits']['hits']:\n",
    "    print res['hits']['max_score'] \n",
    "    print(\"%(actors)s:\" % hit[\"_source\"])\n",
    "    #print(\"%(tags)s %(actors)s: %(image)s\" % hit[\"_source\"])"
   ]
  },
  {
   "cell_type": "code",
   "execution_count": 8,
   "metadata": {
    "collapsed": false,
    "deletable": true,
    "editable": true
   },
   "outputs": [
    {
     "name": "stdout",
     "output_type": "stream",
     "text": [
      "True\n"
     ]
    }
   ],
   "source": [
    "print es.ping()"
   ]
  },
  {
   "cell_type": "code",
   "execution_count": 11,
   "metadata": {
    "collapsed": false,
    "deletable": true,
    "editable": true
   },
   "outputs": [
    {
     "name": "stdout",
     "output_type": "stream",
     "text": [
      "{u'movie': {u'mappings': {u'info': {u'properties': {u'rating': {u'fields': {u'keyword': {u'ignore_above': 256, u'type': u'keyword'}}, u'type': u'text'}, u'votes': {u'fields': {u'keyword': {u'ignore_above': 256, u'type': u'keyword'}}, u'type': u'text'}, u'description': {u'fields': {u'keyword': {u'ignore_above': 256, u'type': u'keyword'}}, u'type': u'text'}, u'tags': {u'fields': {u'keyword': {u'ignore_above': 256, u'type': u'keyword'}}, u'type': u'text'}, u'image': {u'fields': {u'keyword': {u'ignore_above': 256, u'type': u'keyword'}}, u'type': u'text'}, u'director': {u'fields': {u'keyword': {u'ignore_above': 256, u'type': u'keyword'}}, u'type': u'text'}, u'actors': {u'type': u'text', u'analyzer': u'autocomplete'}, u'year': {u'fields': {u'keyword': {u'ignore_above': 256, u'type': u'keyword'}}, u'type': u'text'}, u'similar': {u'fields': {u'keyword': {u'ignore_above': 256, u'type': u'keyword'}}, u'type': u'text'}, u'name': {u'fields': {u'keyword': {u'ignore_above': 256, u'type': u'keyword'}}, u'type': u'text'}}}}}}\n"
     ]
    }
   ],
   "source": [
    "print es.indices.get_mapping(index='movie',doc_type=\"info\")"
   ]
  },
  {
   "cell_type": "code",
   "execution_count": null,
   "metadata": {
    "collapsed": true
   },
   "outputs": [],
   "source": []
  }
 ],
 "metadata": {
  "kernelspec": {
   "display_name": "Python 2",
   "language": "python",
   "name": "python2"
  },
  "language_info": {
   "codemirror_mode": {
    "name": "ipython",
    "version": 2
   },
   "file_extension": ".py",
   "mimetype": "text/x-python",
   "name": "python",
   "nbconvert_exporter": "python",
   "pygments_lexer": "ipython2",
   "version": "2.7.10"
  }
 },
 "nbformat": 4,
 "nbformat_minor": 2
}
